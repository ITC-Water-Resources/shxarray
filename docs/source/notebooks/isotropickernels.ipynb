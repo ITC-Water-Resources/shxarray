{
 "cells": [
  {
   "cell_type": "markdown",
   "id": "e111b3bf-c7e5-4a1d-b431-97a9dcdecdcd",
   "metadata": {},
   "source": [
    "# shxarray examples: Isotropic kernels\n",
    "\n",
    "This notebook can be found at:"
   ]
  }
 ],
 "metadata": {
  "kernelspec": {
   "display_name": "pyrr",
   "language": "python",
   "name": "pyrr"
  },
  "language_info": {
   "codemirror_mode": {
    "name": "ipython",
    "version": 3
   },
   "file_extension": ".py",
   "mimetype": "text/x-python",
   "name": "python",
   "nbconvert_exporter": "python",
   "pygments_lexer": "ipython3",
   "version": "3.11.6"
  }
 },
 "nbformat": 4,
 "nbformat_minor": 5
}
